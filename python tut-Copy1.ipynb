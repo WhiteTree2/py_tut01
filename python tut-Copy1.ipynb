{
 "cells": [
  {
   "cell_type": "markdown",
   "metadata": {},
   "source": [
    "# 배운다 예제로 나는 Tutorial Python \n",
    "- ver : 1.2 date : 19/09/10 작성 : 한경민"
   ]
  },
  {
   "cell_type": "markdown",
   "metadata": {},
   "source": [
    "# installation\n",
    "- pycharm\n",
    "- anaconda\n",
    "- debug\n"
   ]
  },
  {
   "cell_type": "markdown",
   "metadata": {},
   "source": [
    "# Importing Package\n",
    "- C에서의 #include<stdio.h>와 같은 여러가지 라이브러리(pakage)들을 import 해봅시다."
   ]
  },
  {
   "cell_type": "code",
   "execution_count": 1,
   "metadata": {},
   "outputs": [],
   "source": [
    "import numpy as np\n",
    "import torch\n",
    "import math"
   ]
  },
  {
   "cell_type": "markdown",
   "metadata": {},
   "source": [
    "- as를 사용하여, numpy라는 라이브러리 명칭을 전부 사용할 필요 없이 np.~으로 numpy를 사용할 수 있습니다.\n",
    "- 예시에서는 나오지 않았지만, import tensorflow와 import tensorflow as tf에서, 각각 tensorflow.~ 그리고, tf.~라고 불러와야 하는 차이점이 있습니다.\n",
    "- import한 pakage을사용해 봅시다."
   ]
  },
  {
   "cell_type": "code",
   "execution_count": 2,
   "metadata": {},
   "outputs": [
    {
     "name": "stdout",
     "output_type": "stream",
     "text": [
      "[[-1.15787295 -1.20633518  0.2096956 ]\n",
      " [-1.57831674 -0.01620141  0.12614328]\n",
      " [-1.84753654 -1.44609351 -1.67426313]\n",
      " [ 0.87686384 -1.51309311 -0.55702037]\n",
      " [ 1.63265052 -0.28830662 -0.14923888]]\n"
     ]
    }
   ],
   "source": [
    "print(np.random.randn(5,3))"
   ]
  },
  {
   "cell_type": "code",
   "execution_count": 3,
   "metadata": {},
   "outputs": [
    {
     "name": "stdout",
     "output_type": "stream",
     "text": [
      "tensor([[-0.4905, -0.2960,  1.2272, -0.0887],\n",
      "        [-0.2769,  0.6115,  1.6717,  0.8656],\n",
      "        [ 0.9007, -0.2750,  0.0347,  1.2409],\n",
      "        [-0.3640,  0.5394, -0.0570, -0.4659],\n",
      "        [-0.3920, -0.4836, -1.4741,  2.2290]])\n"
     ]
    }
   ],
   "source": [
    "print(torch.randn(5,4))"
   ]
  },
  {
   "cell_type": "code",
   "execution_count": 4,
   "metadata": {},
   "outputs": [
    {
     "name": "stdout",
     "output_type": "stream",
     "text": [
      "1.4142135623730951\n"
     ]
    }
   ],
   "source": [
    "print(math.sqrt(2))"
   ]
  },
  {
   "cell_type": "code",
   "execution_count": 6,
   "metadata": {},
   "outputs": [
    {
     "name": "stdout",
     "output_type": "stream",
     "text": [
      "[[-0.28280536  1.07040095 -0.85927032]\n",
      " [ 0.36444261  0.78675443 -1.10288437]\n",
      " [-0.61791575  0.17841997  0.39080883]\n",
      " [-1.13811682  0.82265266 -1.49821237]\n",
      " [ 0.36216926  0.46093204 -0.27559024]]\n"
     ]
    }
   ],
   "source": [
    "from numpy import random as nr\n",
    "print(nr.randn(5,3))"
   ]
  },
  {
   "cell_type": "markdown",
   "metadata": {},
   "source": [
    "- from 패키지명 import 함수나 변수 를 활용하여, 패키지 안의 함수나 변수만을 가져올 수 있습니다.\n",
    "- 앞서 배웠던 as와 결합하여, numpy.random을 nr로 불러온 것에 성공한것을 볼 수 있습니다."
   ]
  },
  {
   "cell_type": "markdown",
   "metadata": {},
   "source": [
    "# Data type : 자료형\n",
    "- python에는 다양한 data type이 존재합니다.\n",
    "- python에는 숫자형/ 문자열 자료형/ 리스트 자료형/ 튜플 자료형/ 딕셔너리 자료형/ 집합 자료형/ bool 자료형이 있습니다."
   ]
  },
  {
   "cell_type": "markdown",
   "metadata": {},
   "source": [
    "## 숫자형 데이터"
   ]
  },
  {
   "cell_type": "code",
   "execution_count": 5,
   "metadata": {},
   "outputs": [
    {
     "name": "stdout",
     "output_type": "stream",
     "text": [
      "123\n",
      "<class 'int'>\n",
      "-1.23\n",
      "<class 'float'>\n",
      "12300.0\n",
      "<class 'float'>\n",
      "123.0\n",
      "<class 'float'>\n"
     ]
    }
   ],
   "source": [
    "num1 = 123\n",
    "print(num1)\n",
    "print(type(num1))\n",
    "num2 = -1.23\n",
    "print(num2)\n",
    "print(type(num2))\n",
    "num3 = 1.23e4\n",
    "print(num3)\n",
    "print(type(num3))\n",
    "num4 = float(num1)\n",
    "print(num4)\n",
    "print(type(num4))"
   ]
  },
  {
   "cell_type": "markdown",
   "metadata": {},
   "source": [
    "- 숫자형에는 크게 두 가지 타입이 존재합니다.\n",
    "- int는 정수를 다루는 타입이고, float는 유리수를 다루는 타입입니다.\n",
    "- 1.23e4와 같은 문법이 허용되어있으며, \"eNum\"은 *10^(Num)을 의미하므로, 1.23e4는 1.23*10^4 즉, 1230을 의미합니다.\n",
    "- int(), float()등을 통해 type casting(타입을 변환)이 가능합니다.\n",
    "- 위의 예시에선 123(int)를 float형으로 type casting한 것을 확인할 수 있습니다."
   ]
  },
  {
   "cell_type": "markdown",
   "metadata": {},
   "source": [
    "## 숫자형 데이터의 사칙연산\n",
    "- 숫자형 데이터는 사칙연산을 지원합니다.\n",
    "- 기본적으로, \"+, -, *, /\" 등을 지원하며, python에서는 제곱연산 \"**\"과 나머지를 반환하는 \"%\" 연산, 몫을 반환하는 \"//\"를 지원합니다."
   ]
  },
  {
   "cell_type": "code",
   "execution_count": 6,
   "metadata": {},
   "outputs": [
    {
     "name": "stdout",
     "output_type": "stream",
     "text": [
      "579\n",
      "-333\n",
      "56088\n",
      "0.26973684210526316\n",
      "15129\n",
      "87\n",
      "3\n"
     ]
    }
   ],
   "source": [
    "a = 123\n",
    "b = 456\n",
    "print(a + b)\n",
    "print(a - b)\n",
    "print(a * b)\n",
    "print(a / b)\n",
    "print(a ** 2)\n",
    "print(b % a)\n",
    "print(b // a)"
   ]
  },
  {
   "cell_type": "markdown",
   "metadata": {},
   "source": [
    "# 문자열\n",
    " - 문자열을 사용할때는, ('\\~'), (\"\\~\"), ('''\\~'''), (\"\"\"\\~\"\"\") 총 4가지를 사용하여, 문자열을 생성 할 수 있습니다.\n",
    " - 문자열을 줄 바꿈 사용하고자 한다면, \"\\n\"을 사용하면, 원하는 위치에서 줄 바꿈을 수행하는 문자열을 생성할 수 있습니다."
   ]
  },
  {
   "cell_type": "code",
   "execution_count": 7,
   "metadata": {},
   "outputs": [
    {
     "name": "stdout",
     "output_type": "stream",
     "text": [
      "hellow world\n",
      "hellow world2\n",
      "hellow world3 hellow world3 hellow world3 hellow world3 hellow world3\n",
      "hellow world3 hellow world3 hellow world3 hellow world3 hellow world3 hellow world3 hellow world3 hellow world3 \n",
      "hellow world4 hellow world4 hellow world4 hellow world4 hellow world4 \n",
      "hellow world4 hellow world4 hellow world4 hellow world4 hellow world4 hellow world4 hellow world4 hellow world4 \n",
      "hellow \n",
      "world5\n"
     ]
    }
   ],
   "source": [
    "string1 = 'hellow world'\n",
    "print(string1)\n",
    "string2 = \"hellow world2\"\n",
    "print(string2)\n",
    "string3 = '''hellow world3 hellow world3 hellow world3 hellow world3 hellow world3\n",
    "hellow world3 hellow world3 hellow world3 hellow world3 hellow world3 hellow world3 hellow world3 hellow world3 '''\n",
    "print(string3)\n",
    "string4 = \"\"\"hellow world4 hellow world4 hellow world4 hellow world4 hellow world4 \n",
    "hellow world4 hellow world4 hellow world4 hellow world4 hellow world4 hellow world4 hellow world4 hellow world4 \"\"\"\n",
    "print(string4)\n",
    "string5 = \"\"\"hellow \\nworld5\"\"\"\n",
    "print(string5)"
   ]
  },
  {
   "cell_type": "markdown",
   "metadata": {},
   "source": [
    "# LIST : 리스트 자료형\n",
    "- 앞서, 숫자나 문자열 자료형에 대해 공부하는 시간을 가졌습니다.\n",
    "- 이번에는 숫자나 문자열의 여러개의 모음으로 표현되는 리스트 자료형에 대하여 배워볼 것입니다."
   ]
  },
  {
   "cell_type": "code",
   "execution_count": 8,
   "metadata": {},
   "outputs": [
    {
     "name": "stdout",
     "output_type": "stream",
     "text": [
      "[]\n",
      "[1, 2, 3]\n",
      "['a', 'b', 'c']\n",
      "[1, 2, 3, 'a', 'b']\n",
      "[1, 2, ['a', ['a', 'b', 'c']]]\n"
     ]
    }
   ],
   "source": [
    "a = []\n",
    "b = [1,2,3]\n",
    "c = ['a','b','c']\n",
    "d = [1,2,3,'a','b']\n",
    "e = [1,2,['a',c]]\n",
    "print(a)\n",
    "print(b)\n",
    "print(c)\n",
    "print(d)\n",
    "print(e)"
   ]
  },
  {
   "cell_type": "markdown",
   "metadata": {},
   "source": [
    "- List는 \"[]\"로 생성할 수 있으며, 순서를 고려하는 자료형입니다.\n",
    "- List의 원소(element)로 올 수 있는것은 숫자형 자료형, 문자열등이 있으며, 리스트 자체로 한 리스트의 element로 들어올 수 있습니다."
   ]
  },
  {
   "cell_type": "code",
   "execution_count": 9,
   "metadata": {},
   "outputs": [
    {
     "name": "stdout",
     "output_type": "stream",
     "text": [
      "1\n",
      "2\n",
      "3\n",
      "['a', 'b']\n",
      "a\n",
      "b\n",
      "a\n",
      "b\n"
     ]
    }
   ],
   "source": [
    "a = [1,2,3,['a','b']]\n",
    "print(a[0])\n",
    "print(a[1])\n",
    "print(a[2])\n",
    "print(a[3])\n",
    "print(a[3][0])\n",
    "print(a[3][1])\n",
    "print(a[-1][0])\n",
    "print(a[-1][-1])"
   ]
  },
  {
   "cell_type": "markdown",
   "metadata": {},
   "source": [
    "- 보기와 같이 List는 indexing을 지원하며, 첫 element는 \"0\" 부터 시작합니다.\n",
    "- List의 마지막 element는 -1, 마지막에서 두번째 element는 -2로 대치할 수 있습니다.\n",
    "- List속에 List가 있다면, [?][?]으로 값에 접근할 수 있습니다."
   ]
  },
  {
   "cell_type": "code",
   "execution_count": 10,
   "metadata": {},
   "outputs": [
    {
     "name": "stdout",
     "output_type": "stream",
     "text": [
      "[3, 4, 5]\n",
      "[1, 2, 3, 4, 5]\n",
      "[3, 4, 5, 6, 7]\n",
      "[1, 2, 3, 4, 5, 6]\n",
      "[7]\n",
      "345\n"
     ]
    }
   ],
   "source": [
    "a = [1,2,3,4,5,6,7]\n",
    "print(a[2:5])\n",
    "print(a[:5])\n",
    "print(a[2:])\n",
    "print(a[:-1])\n",
    "print(a[-1:])\n",
    "b = \"1234567\"\n",
    "print(b[2:5])"
   ]
  },
  {
   "cell_type": "markdown",
   "metadata": {},
   "source": [
    "- List는 slicing을 지원합니다.\n",
    "- 2번째 element부터 5번째 element가 되기 전까지를 가져오고 싶을때가 있을텐데 그런때에 유용한것이 slicing입니다.\n",
    "- 기본적으로 [start_point:end_point]이 지원되며, [start_point:],[:end_point]는 각각 시작지점 ~ 리스트의 끝, 리스트의 시작 ~ 끝지점이 추출됩니다."
   ]
  },
  {
   "cell_type": "code",
   "execution_count": 11,
   "metadata": {},
   "outputs": [
    {
     "name": "stdout",
     "output_type": "stream",
     "text": [
      "[1, 2, 3, '4', '5', '6']\n",
      "[1, 2, 3, 1, 2, 3, 1, 2, 3]\n",
      "6\n",
      "9\n"
     ]
    }
   ],
   "source": [
    "a = [1,2,3]\n",
    "b = ['4','5','6']\n",
    "print(a + b)\n",
    "print(a*3)\n",
    "print(len(a+b))\n",
    "print(len(a*3))"
   ]
  },
  {
   "cell_type": "markdown",
   "metadata": {},
   "source": [
    "- 리스트에는 더하기 곱하기 연산이 정의되어있습니다.\n",
    "- 더하기 연산은 두 리스트를 이어주는 연산이 수행되고,\n",
    "- 곱하기 연산은, 리스트를 곱한 숫자만큼 반복해서 이어붙히는 연산을 수행합니다.\n",
    "- len() 함수는 리스트의 element수를 반환합니다."
   ]
  },
  {
   "cell_type": "code",
   "execution_count": 12,
   "metadata": {},
   "outputs": [
    {
     "name": "stdout",
     "output_type": "stream",
     "text": [
      "[1, 7, 3]\n",
      "[1, 3]\n",
      "[1, 2, 3]\n"
     ]
    }
   ],
   "source": [
    "a = [1,2,3]\n",
    "a[1] = 7\n",
    "print(a)\n",
    "del a[1]\n",
    "print(a)\n",
    "a = [1,2,3,4,5]\n",
    "del a[3:]\n",
    "print(a)"
   ]
  },
  {
   "cell_type": "markdown",
   "metadata": {},
   "source": [
    "- 위와같이 리스트의 값 일부를 접근하여 수정할 수 있습니다.\n",
    "- del을 이용하여, 리스트의 한 element를 제거할 수 있습니다.\n",
    "- 마찬가지로, del을 이용해 여러 element를 제거할 수도 있습니다."
   ]
  },
  {
   "cell_type": "code",
   "execution_count": 13,
   "metadata": {},
   "outputs": [
    {
     "name": "stdout",
     "output_type": "stream",
     "text": [
      "[1, 3, 2]\n",
      "[2, 3, 1]\n",
      "[1, 2, 3]\n"
     ]
    }
   ],
   "source": [
    "a = []\n",
    "a.append(1)\n",
    "a.append(3)\n",
    "a.append(2)\n",
    "print(a)\n",
    "a.reverse()\n",
    "print(a)\n",
    "a.sort()\n",
    "print(a)"
   ]
  },
  {
   "cell_type": "markdown",
   "metadata": {},
   "source": [
    "- 비어있는 list는 []으로 생성할 수 있습니다.\n",
    "- append() 매소드를 활용해, 현재 리스트에 element를 추가할 수 있습니다.\n",
    "- reverse() 매소드를 활용해, 현재 리스트의 값들을 반전시킬 수도 있습니다.\n",
    "- sort() 매소드를 활용해, 값들을 sort할 수 있습니다."
   ]
  },
  {
   "cell_type": "code",
   "execution_count": 14,
   "metadata": {},
   "outputs": [
    {
     "name": "stdout",
     "output_type": "stream",
     "text": [
      "[1, 2, 11, 3, 4, 5, 3, 6, 7, 8, 9, 10]\n",
      "[1, 2, 11, 4, 5, 3, 6, 7, 8, 9, 10]\n",
      "[1, 2, 11, 4, 5, 6, 7, 8, 9, 10]\n",
      "10\n",
      "[1, 2, 11, 4, 5, 6, 7, 8, 9]\n",
      "0\n",
      "1\n"
     ]
    }
   ],
   "source": [
    "a = [1,2,3,4,5,3,6,7,8,9,10]\n",
    "a.insert(2,11)\n",
    "print(a)\n",
    "a.remove(3)\n",
    "print(a)\n",
    "a.remove(3)\n",
    "print(a)\n",
    "print(a.pop())\n",
    "print(a)\n",
    "print(a.count(3))\n",
    "print(a.count(5))"
   ]
  },
  {
   "cell_type": "markdown",
   "metadata": {},
   "source": [
    "- insert(insert_point, val) 매서드를 활용하여, 원하는 위치에 값을 삽입할 수 있습니다.\n",
    "- remove(val)를 활용하여, 첫 element부터 val에 해당하는 값을 찾아 제거할 수 있습니다.\n",
    "- pop()을 활용하여, 마지막 element부터 추출 및 제거할 수 있습니다.\n",
    "- count(val)를 활용하여, list속 val의 갯수를 샐 수 있습니다."
   ]
  },
  {
   "cell_type": "markdown",
   "metadata": {},
   "source": [
    "# Tuple : 튜플 자료형\n",
    "- tuple형 데이터는 기본적으로 리스트형 데이터와 거의 비슷하지만, 몇 가지 다른점이 있습니다.\n",
    "- 리스트는 []으로 생성됬지만, 튜플은 ()으로 생성됩니다.\n",
    "- 리스트는 개별 값들에 접근해 생성 및 수정, 삭제 모두 가능하지만, 튜플은 생성된 뒤 아무값도 바꿀 수 없습니다.."
   ]
  },
  {
   "cell_type": "code",
   "execution_count": 15,
   "metadata": {},
   "outputs": [
    {
     "name": "stdout",
     "output_type": "stream",
     "text": [
      "()\n",
      "(1,)\n",
      "(1, 2, 3)\n",
      "(1, 2, 3)\n",
      "('a', 1, ('123', 'abc'))\n"
     ]
    }
   ],
   "source": [
    "t1 = ()\n",
    "t2 = (1,)\n",
    "t3 = (1,2,3)\n",
    "t4 = 1,2,3\n",
    "t5 = ('a',1,('123','abc'))\n",
    "print(t1)\n",
    "print(t2)\n",
    "print(t3)\n",
    "print(t4)\n",
    "print(t5)"
   ]
  },
  {
   "cell_type": "markdown",
   "metadata": {},
   "source": [
    "- t2에서 한 개의 element만 사용하는 tuple에서는 반드시, \",\"를 사용하여야한다.\n",
    "- \"()\"를 사용하지 않더라도 tuple을 생성할 수 있다는 점이 있다.\n",
    "- 그 외의 인덱싱, 더하기, 곱하기등은 list에서의 것과 모두 같다."
   ]
  },
  {
   "cell_type": "markdown",
   "metadata": {},
   "source": [
    "# Dictionary : 딕셔너리 자료형\n",
    "- 딕셔너리는 key와 value를 한쌍으로 하는 자료형입니다.\n",
    "- {'name' : 홍길동, 'year' : 1990, 'height' : 178, 'weight' : 63 }\n",
    "- key는 tuple에서 처럼 수정할 수 없는 값을 사용하고, value에서는 변하는 값, 변하지 않는 값 모두 사용할 수 있습니다."
   ]
  },
  {
   "cell_type": "code",
   "execution_count": 16,
   "metadata": {},
   "outputs": [
    {
     "name": "stdout",
     "output_type": "stream",
     "text": [
      "1\n",
      "2\n",
      "abc\n",
      "[5, 6, 7]\n"
     ]
    }
   ],
   "source": [
    "a = {'a' : 1, 'b' : 2, 3 : 'abc', 4 : [5,6,7]}\n",
    "print(a['a'])\n",
    "print(a['b'])\n",
    "print(a[3])\n",
    "print(a[4])"
   ]
  },
  {
   "cell_type": "markdown",
   "metadata": {},
   "source": [
    "- 기본적으로 \"{}\"을 통해 생성할 수 있습니다. ** set과 혼동 할 수 있지만, set에는 key가 없습니다. **\n",
    "- 순서가 없는 자료형이므로, 리스트나 튜플의 indexing방법을 지원하지 않으며, key를 통해 값을 불러와야 합니다."
   ]
  },
  {
   "cell_type": "code",
   "execution_count": 17,
   "metadata": {},
   "outputs": [
    {
     "name": "stdout",
     "output_type": "stream",
     "text": [
      "{2: 'abc', 'a': 'abcd', 0: [1, 2, 3, 4]}\n",
      "True\n",
      "False\n",
      "{'a': 'abcd', 0: [1, 2, 3, 4]}\n",
      "[1, 2, 3, 4]\n",
      "[1, 2, 3, 4]\n",
      "abcd\n",
      "abcd\n",
      "None\n"
     ]
    }
   ],
   "source": [
    "a = {}\n",
    "a[2] = 'abc'\n",
    "a['a'] = 'abcd'\n",
    "a[0] = [1,2,3,4]\n",
    "print(a)\n",
    "print(2 in a)\n",
    "print(3 in a)\n",
    "del a[2]\n",
    "print(a)\n",
    "print(a[0])\n",
    "print(a.get(0))\n",
    "print(a['a'])\n",
    "print(a.get('a'))\n",
    "print(a.get(2))\n",
    "#print(a[2]) #make err"
   ]
  },
  {
   "cell_type": "markdown",
   "metadata": {},
   "source": [
    "- 위와같이 비어있는 dictionary에 \"dicname[key] = val\" 과 같은 방식으로 element를 추가할 수 있습니다.\n",
    "- key가 list에 있는지 여부를 \"key in dicname\" 으로 알 수 있습니다.\n",
    "- list와 마찬가지로 del을 사용해 key와 val쌍을 제거할 수 있습니다.\n",
    "- dicname[key]로 값을 불러올 수 있지만, dicname.get(key)를 통해 값을 불러올 수도 있습니다.\n",
    "- get method를 사용하면, key가 존재하지 않는 경우에 None을 배출하지만, dicname[key]는 오류를 발생시킵니다."
   ]
  },
  {
   "cell_type": "code",
   "execution_count": 18,
   "metadata": {},
   "outputs": [
    {
     "name": "stdout",
     "output_type": "stream",
     "text": [
      "dict_keys(['key1', 'key2', 'key3'])\n",
      "key1\n",
      "key2\n",
      "key3\n",
      "dict_values(['val1', 'val2', 'val3'])\n",
      "val1\n",
      "val2\n",
      "val3\n",
      "dict_items([('key1', 'val1'), ('key2', 'val2'), ('key3', 'val3')])\n",
      "{}\n"
     ]
    }
   ],
   "source": [
    "a = {'key1' : 'val1', 'key2' : 'val2', 'key3' : 'val3'}\n",
    "print(a.keys())\n",
    "for item in a.keys():\n",
    "    print(item)\n",
    "print(a.values())\n",
    "for item in a.values():\n",
    "    print(item)\n",
    "print(a.items())\n",
    "a.clear()\n",
    "print(a)"
   ]
  },
  {
   "cell_type": "markdown",
   "metadata": {},
   "source": [
    "- keys() 매소드를 통해, key들만 추출할 수도 있습니다.\n",
    "- 마찬가지로, values() 매소드를 통해 value들만 추출할 수도 있습니다.\n",
    "- clear를 통해, dictionary의 내용을 모두 지울수도 있습니다."
   ]
  },
  {
   "cell_type": "code",
   "execution_count": 35,
   "metadata": {},
   "outputs": [
    {
     "name": "stdout",
     "output_type": "stream",
     "text": [
      "{'a': 2}\n"
     ]
    }
   ],
   "source": [
    "a = {'a' : 1, 'a' : 2}\n",
    "print(a)"
   ]
  },
  {
   "cell_type": "markdown",
   "metadata": {},
   "source": [
    "- 같은 key를 갖는 쌍이 한 dictionary안에 있을 경우, 마지막으로 입력된 key와 value쌍만 인정받을 수 있습니다."
   ]
  },
  {
   "cell_type": "markdown",
   "metadata": {},
   "source": [
    "# Set : 집합 자료형\n",
    "- 집합 자료형 역시 list 자료형과 비슷한 형태의 자료형입니다.\n",
    "- List와 Set의 가장 두드러지는 차이점은 1. 중복을 허용하지 않는다, 2. 순서가 없다. 라는 2가지 특징이 될것입니다.\n",
    "- Set형 자료형은 set()으로 생성하며, 순서가 없기 때문에 인덱싱을 지원하지 않는다는 점이 또 하나의 큰 특징이라고 볼 수 있을것입니다."
   ]
  },
  {
   "cell_type": "code",
   "execution_count": 38,
   "metadata": {},
   "outputs": [
    {
     "name": "stdout",
     "output_type": "stream",
     "text": [
      "{1, 2, 3, 4, 5}\n",
      "{1, 3, 5, 7, 9}\n",
      "{1, 3, 5}\n",
      "{1, 3, 5}\n",
      "{1, 2, 3, 4, 5, 7, 9}\n",
      "{1, 2, 3, 4, 5, 7, 9}\n",
      "{2, 4}\n",
      "{2, 4}\n",
      "{1, 2, 3, 4, 5, 6}\n",
      "{1, 2, 3, 4, 5, 6, 7, 8, 9, 10}\n",
      "{1, 2, 3, 4, 5, 7, 8, 9, 10}\n"
     ]
    }
   ],
   "source": [
    "set1 = set([1,2,3,4,5])\n",
    "print(set1)\n",
    "set2 = set([1,3,5,7,9])\n",
    "print(set2)\n",
    "set3 = set1 & set2\n",
    "print(set3)\n",
    "set4 = set1.intersection(set2)\n",
    "print(set4)\n",
    "set5 = set1 | set2\n",
    "print(set5)\n",
    "set6 = set1.union(set2)\n",
    "print(set6)\n",
    "set7 = set1 - set2\n",
    "print(set7)\n",
    "set8 = set1.difference(set2)\n",
    "print(set8)\n",
    "set1.add(6)\n",
    "print(set1)\n",
    "set1.update([6,7,8,9,10])\n",
    "print(set1)\n",
    "set1.remove(6)\n",
    "print(set1)"
   ]
  },
  {
   "cell_type": "markdown",
   "metadata": {},
   "source": [
    "- set형은 리스트를 set()을 통해 형변환을 통해 얻을 수도 있지만, 기본적으로 \"{}\"을 통해 생성할 수 있습니다.\n",
    "- set은 집합으로써, & | - 연산을 지원하며 각각 교집합, 합집합, 차집합을 의미합니다.\n",
    "- intersection, union, difference가 각각 상기 언급된 집합연산을 대체할 수도 있습니다.\n",
    "- add(val)를 통해 집합에 element를 추가할 수 있습니다.\n",
    "- update(list)를 통해 집합에 element들을 추가할 수도 있습니다.\n",
    "- remove(val)을 통해, 집합에서 해당하는 val element를 제거할 수 있습니다."
   ]
  },
  {
   "cell_type": "markdown",
   "metadata": {},
   "source": [
    "# bool 자료형\n",
    "- 참과 거짓을 나타내기 위한 자료형입니다.\n",
    "- True와 False 두 값만을 가질 수 있으며, and 나 or 등의 연산자를 활용할 수 있습니다."
   ]
  },
  {
   "cell_type": "code",
   "execution_count": 21,
   "metadata": {},
   "outputs": [
    {
     "name": "stdout",
     "output_type": "stream",
     "text": [
      "True\n",
      "False\n",
      "5>3: True\n",
      "5<=3: False\n",
      "5>3 and 5<=3: False\n",
      "5>3 or 5<=3: True\n",
      "5<3: False\n",
      "[]: False\n",
      "[1,2,3,'a','b']: True\n",
      "1: True\n",
      "0: False\n"
     ]
    }
   ],
   "source": [
    "T = True\n",
    "print(T)\n",
    "F = False\n",
    "print(F)\n",
    "T = 5>3\n",
    "print('5>3: ' + str(T))\n",
    "F = 5<=3\n",
    "print('5<=3: ' + str(F))\n",
    "bool1 = 5>3 and 5<=3\n",
    "print('5>3 and 5<=3: ' + str(bool1))\n",
    "bool2 = 5>3 or 5<=3\n",
    "print('5>3 or 5<=3: ' + str(bool2))\n",
    "if 5<3:\n",
    "    print('5<3: True')\n",
    "else:\n",
    "    print('5<3: False')\n",
    "if []:\n",
    "    print('[]: True')\n",
    "else:\n",
    "    print('[]: False')\n",
    "if [1,2,3,'a','b']:\n",
    "    print(\"[1,2,3,'a','b']: True\")\n",
    "else:\n",
    "    print(\"[1,2,3,'a','b']: False\")\n",
    "if 1:\n",
    "    print('1: True')\n",
    "else:\n",
    "    print('1: False')\n",
    "if 0:\n",
    "    print('0: True')\n",
    "else:\n",
    "    print('0: False')\n",
    "while 5<3:\n",
    "    print(\"impossible\")"
   ]
  },
  {
   "cell_type": "markdown",
   "metadata": {},
   "source": [
    "# For / While : 반복문\n",
    "- for문과 while문을 반복하여 단순 반복작업을 쉽게 수행해봅시다."
   ]
  },
  {
   "cell_type": "code",
   "execution_count": 24,
   "metadata": {
    "scrolled": true
   },
   "outputs": [
    {
     "name": "stdout",
     "output_type": "stream",
     "text": [
      "1.0\n",
      "1.0\n",
      "4.0\n",
      "27.0\n",
      "256.0\n"
     ]
    }
   ],
   "source": [
    "print(math.pow(0,0))\n",
    "print(math.pow(1,1))\n",
    "print(math.pow(2,2))\n",
    "print(math.pow(3,3))\n",
    "print(math.pow(4,4))"
   ]
  },
  {
   "cell_type": "markdown",
   "metadata": {},
   "source": [
    "- 이렇게 귀찮게 작성되어야 할 코드가..."
   ]
  },
  {
   "cell_type": "code",
   "execution_count": 25,
   "metadata": {},
   "outputs": [
    {
     "name": "stdout",
     "output_type": "stream",
     "text": [
      "1.0\n",
      "1.0\n",
      "4.0\n",
      "27.0\n",
      "256.0\n"
     ]
    }
   ],
   "source": [
    "for i in range(0,5):\n",
    "    print(math.pow(i,i))"
   ]
  },
  {
   "cell_type": "markdown",
   "metadata": {},
   "source": [
    "- 이렇게 간단히 수행할 수 있습니다.\n",
    "\n",
    "- i는 for문을 돌며 range(0,5)가 뱉는 {0,1,2,3,4}를 하나하나 꺼내 사용하며, for안의 문장을 반복합니다.\n",
    "- 위에서 작성된 for문은 다음과같이 똑같은 일을 수행하는 While문으로 작성할 수 있습니다."
   ]
  },
  {
   "cell_type": "code",
   "execution_count": 26,
   "metadata": {},
   "outputs": [
    {
     "name": "stdout",
     "output_type": "stream",
     "text": [
      "1.0\n",
      "1.0\n",
      "4.0\n",
      "27.0\n",
      "256.0\n"
     ]
    }
   ],
   "source": [
    "i = 0\n",
    "while(i < 5):\n",
    "    print(math.pow(i,i))\n",
    "    i = i+1"
   ]
  },
  {
   "cell_type": "markdown",
   "metadata": {},
   "source": [
    "- i = 0 으로 값을 초기화 하고, \n",
    "- 매 iteration을 i < 5 를 더 이상 만족하지 않을때까지 반복합니다."
   ]
  },
  {
   "cell_type": "code",
   "execution_count": 27,
   "metadata": {},
   "outputs": [
    {
     "name": "stdout",
     "output_type": "stream",
     "text": [
      "1.0\n",
      "1.0\n",
      "4.0\n",
      "27.0\n",
      "256.0\n"
     ]
    }
   ],
   "source": [
    "i = 0\n",
    "while(True):\n",
    "    print(math.pow(i,i))\n",
    "    i = i+1\n",
    "    if i == 5:\n",
    "        break"
   ]
  },
  {
   "cell_type": "markdown",
   "metadata": {},
   "source": [
    "- 다음과 같이 while문을 항상 가동하되, break을 통해, while문을 특정 조건을 만족하면 탈출 할 수 있게 작성할 수 있습니다.\n",
    "- 위와 같은 방식으로, break을 활용하여 위와 같은 수행을 하는 while문을 만들 수 있습니다."
   ]
  },
  {
   "cell_type": "markdown",
   "metadata": {},
   "source": [
    "## IF/else : 조건문\n",
    "- while문에서 잠시 소개되었던, if문에 대해 알아봅시다!\n",
    "- if문은 if문 오른쪽 문장이 참(True)인치, 거짓(False)인지에 따라서, 종속 문장을 수행합니다.\n",
    "- 여기서 종속문장은 들여쓰기를 기준으로 하며, 이는 C언어의 \"{}\"와 유사합니다.\n",
    "- 종속문장의 상위문장에는 항상 \":\"이 따라오게 되어있습니다.\n",
    "- if/elif/else를 활용하여, 조건1을 만족하는지 아닌지/ 조건1이 만족되지 않았다면, 조건2는 만족하는지 하지않는지, 모두 만족하지 않는 그 외에 해당하는지를 확인합니다."
   ]
  },
  {
   "cell_type": "code",
   "execution_count": 28,
   "metadata": {},
   "outputs": [
    {
     "name": "stdout",
     "output_type": "stream",
     "text": [
      "case3\n"
     ]
    }
   ],
   "source": [
    "test_value = 26\n",
    "if test_value>50 or test_value<10:\n",
    "    print('case1')\n",
    "elif test_value>35 or test_value<25:\n",
    "    print('case2')\n",
    "elif test_value>29 or test_value<27:\n",
    "    print('case3')\n",
    "else:\n",
    "    print('o,w')"
   ]
  },
  {
   "cell_type": "markdown",
   "metadata": {},
   "source": [
    "- test_value는 26의 값으로 초기화 되었으며,첫 조건문(10미만, 50초과)을 만족하지 못했으므로, 두번째 조건문(25미만, 35초과)을 확인하게되고, 두번째 조건문 역시 만족하지 못했으므로, 3번째 조건문(27미만, 29초과)에서, 26은 27미만에 해당하므로, 세번째 조건문에서 참이되어 case3를 print하게 됩니다. 만일 test_value가 27~29사잇값이였다면, o.w가 출력되었을 것입니다."
   ]
  },
  {
   "cell_type": "markdown",
   "metadata": {},
   "source": [
    "## Function : 함수\n",
    "- 인풋과 아웃풋으로 정의되는 함수를 구성합니다.\n",
    "- 중,고등학교에서 배웠던 함수의 flow는 다음과 같았을 것입니다.\n",
    "- 위 그림의 함수의 입력(input)으로 x1,x2 라는 것이 사용되었고, 이를 전달인자(argument)라고 부릅니다.\n",
    "- 혹은 매개변수(parameter)이라고도 부릅니다.\n",
    "- 이 둘은 함수의 정의 부분에 나열된 변수인가(parameter) 혹은, 함수를 호출할 때 전달되는 실제 값(argument)인지에 따라 명칭이 다르지만, 보통 혼용되어 사용되는것 같습니다."
   ]
  },
  {
   "cell_type": "code",
   "execution_count": 29,
   "metadata": {
    "scrolled": true
   },
   "outputs": [
    {
     "data": {
      "text/plain": [
       "<Figure size 640x480 with 1 Axes>"
      ]
     },
     "metadata": {},
     "output_type": "display_data"
    }
   ],
   "source": [
    "import matplotlib.pyplot as plt\n",
    "\n",
    "def quadratic_formula_plot(from_,to_,a,b,c):\n",
    "    x = np.arange(from_,to_,0.1)\n",
    "    y = []\n",
    "    for tempx in x:\n",
    "        tempy = a*pow(tempx,2) + b*tempx + c\n",
    "        y.append(tempy)\n",
    "    plt.plot(x,y)\n",
    "    plt.show()\n",
    "    \n",
    "quadratic_formula_plot(-1,1,3,2,2)"
   ]
  },
  {
   "cell_type": "markdown",
   "metadata": {},
   "source": [
    "- 함수의 출력을 위해 import matplotlib.pyplot as plt을 import합니다.\n",
    "- 위의 예시에서는 2차 함수의 계수(constant)와 plot할 x축의 시작과 끝까지의 결과를 보여주는 함수를 확인 할 수 있습니다.\n",
    "- 정의된 함수의 argument로 -1,1,3,2,2가 들어간것을 볼 수 있는데, 이는 각각 x축 시작점, x축 끝점, ax^2+bx+c에서 a,b,c를 의미합니다.\n",
    "- < 이제 함수 내부를 살펴봅시다. >\n",
    "- 함수의 parameter로 from_, to_, a, b, c가 있는데, 별도의 기입이 없다면, 함수 밖에서 입력되는 argument는 저 순서대로 인식이 됩니다.\n",
    "- 먼저 np.arange(from_,to_,0.1)에서 -1(from_)에서 부터 0.1씩 늘려가며, 1이 될 때까지의 값들을 x에 저장합니다.\n",
    "- y=[] 에서는 for문을 반복하며, 계산된 tempy들을 저장해주기 위한 공간을 준비합니다.\n",
    "- for 문 안에서는, x값을 하나씩 꺼내 tempy를 계산하고, 그 값을 y.append(tempy)를 통해 저장합니다.\n",
    "- 저장된 y와 x를 plt.plot(x,y) plt.show()를 통해 출력합니다.\n",
    "- 함수의 정의 밖에서, quadratic_formula_plot(-1,1,3,2,2)을 통해 예시와 같이 미리 정의된 함수를 수행할 수 있습니다."
   ]
  },
  {
   "cell_type": "markdown",
   "metadata": {},
   "source": [
    "# Class : 클래스\n",
    "- 클래스는 프로그래밍의 객체지향을 구현하기위한 핵심적인 부분이라고 볼 수 있습니다.\n",
    "- 클래스는 무엇이며, 어떻게 사용될까요?\n",
    "- 예시로 사람에 대한 정보를 저장하고, 다루는 프로그램을 구현한다고 생각해보겠습니다.\n"
   ]
  },
  {
   "cell_type": "code",
   "execution_count": 22,
   "metadata": {},
   "outputs": [],
   "source": [
    "#human1:\n",
    "human1_name = 'Kyoungmin Han'\n",
    "human1_height = 177\n",
    "human1_age = 25\n",
    "human1_gender = \"Male\"\n",
    "\n",
    "#human2:\n",
    "human2_name = 'Sora Kim'\n",
    "human2_height = 164\n",
    "human2_age = 25\n",
    "human2_gender = \"Female\"\n",
    "\n",
    "#human3:\n",
    "human3_name = 'Hayoung Park'\n",
    "human3_height = 176\n",
    "human3_age = 27\n",
    "human3_gender = \"Male\"\n",
    "\n",
    "#human4:\n",
    "human3_name = 'Kyoujin Jung'\n",
    "human3_height = 173\n",
    "human3_age = 24\n",
    "human3_gender = \"Male\""
   ]
  },
  {
   "cell_type": "markdown",
   "metadata": {},
   "source": [
    "- 이런식으로 사람을 하나하나 작성하다보면 코드가 굉장히 지저분해지고, 변수를 매번 직접 만들어야하는 어려움이 있습니다.\n",
    "- 여기서 주목할 점은, 여기서 다루는 사람에 대한 정보는 모두 이름, 키, 나이, 성별로 고정되어 있다는 점입니다.\n",
    "- 이런 수행을 반복적으로 수행할 때 빛나는 것이 바로, 클래스입니다."
   ]
  },
  {
   "cell_type": "code",
   "execution_count": 23,
   "metadata": {},
   "outputs": [
    {
     "name": "stdout",
     "output_type": "stream",
     "text": [
      "name is: Kyoungmin Han\n",
      "height is: 177cm\n",
      "age is: 25\n",
      "gender is: Male\n",
      "and he/she is student\n",
      "------------------\n",
      "name is: Sora Kim\n",
      "height is: 164cm\n",
      "age is: 25\n",
      "gender is: Female\n",
      "and he/she is student\n",
      "------------------\n",
      "name is: Hayoung Park\n",
      "height is: 176cm\n",
      "age is: 27\n",
      "gender is: Male\n",
      "and he/she is student\n",
      "------------------\n",
      "name is: Kyoujin Jung\n",
      "height is: 173cm\n",
      "age is: 25\n",
      "gender is: Male\n",
      "and he/she is student\n",
      "------------------\n",
      "Kyoungmin Han\n",
      "student\n",
      "Sora Kim\n",
      "student\n"
     ]
    }
   ],
   "source": [
    "class human:\n",
    "    class_value = 'student'\n",
    "    def __init__(self,name_,height_,age_,gender_):\n",
    "        self.name = name_\n",
    "        self.height = height_\n",
    "        self.age = age_\n",
    "        self.gender = gender_\n",
    "    def print(self):\n",
    "        print('name is: '+ self.name)\n",
    "        print('height is: '+ str(self.height)+ 'cm')\n",
    "        print('age is: '+ str(self.age))\n",
    "        print('gender is: '+ self.gender)\n",
    "        print('and he/she is '+ self.class_value)\n",
    "        print('------------------')\n",
    "\n",
    "human1 = human('Kyoungmin Han',177,25,'Male')\n",
    "human2 = human('Sora Kim',164,25,'Female')\n",
    "human3 = human('Hayoung Park',176,27,'Male')\n",
    "human4 = human('Kyoujin Jung',173,25,'Male')\n",
    "\n",
    "human1.print()\n",
    "human2.print()\n",
    "human3.print()\n",
    "human4.print()\n",
    "\n",
    "print(human1.name)\n",
    "print(human1.class_value)\n",
    "print(human2.name)\n",
    "print(human2.class_value)"
   ]
  },
  {
   "cell_type": "markdown",
   "metadata": {},
   "source": [
    "- __init__(self,name_,height_,age_,gender_):\n",
    "- \"생성자(constructor)\"는 객체(하나의 사람 같은)가 생성될 때 최초로 실행됩니다.\n",
    "- 우리는 예시에서, human1 = human('Kyoungmin Han',177,25,'Male')에서 human이란 class로 human1 object(객체)를 생성하였고,\n",
    "- 객체 human1의 정보를 argument값을 전달하여, human1의 초기값으로써 저장하였습니다.\n",
    "- 매번 객체를 생성할때마다 argument를 통해 초기화 시킬 정보들을 전달하여, 생성자에서 그 값들로 초기화를 수행합니다.\n",
    "- self.name 등은, 각 객체마다 독립적으로 가질 수 있는 변수로, \"객체변수\"라 불리며, 생성된 객체마다 다른 값을 가질 수 있습니다.\n",
    "- def print(self):\n",
    "- 모든 사람이면 공통적으로 하는 일이 있을 수 있습니다. 예컨데, 밥을 먹는다던가, 숨을 쉬기 등의 동작을 수행할 수 있을텐데요,\n",
    "- 위의 예시에서는 사람의 정보를 다루는것이 목표이므로, 개인정보를 출력하는 동작을 만들었습니다.\n",
    "- 각 객체가 자기자신이 갖고 있던, 객체변수를 출력하는 함수를 class안에 만들었고, 이는 모든 human class가 동일하게 동작 할 수 있습니다.\n",
    "- class안에 어떤 동작을 수행하는 함수를 \"매서드\"라고 부르며, 이를 통해 같은 human이라는 class를 갖는 객체들은 동일한 동작을 독립적인 변수(객체변수)등을 활용하여 일관적으로 수행할 수 있습니다.\n",
    "- class_value = 'student'\n",
    "- self로 선언되지 않은 변수인 class_value는 모든 human_class가 공유하는 변수로, 각각의 객체에서 항상 같은값을 반환합니다. 이를 클래스 변수라 부릅니다.\n",
    "- C++에서와 달리 객체변수, 클래스 변수 모두 클래스 밖에서 접근 가능합니다.\n",
    "- 마지막 4줄에서 확인할 수 있듯이, 클래스 변수의 출력은 오브젝트와 무관하게 같은 값을 뱉고, 객체 변수는 오브젝트에 종속된 값을 출력하는것을 볼 수 있습니다. "
   ]
  },
  {
   "cell_type": "markdown",
   "metadata": {},
   "source": [
    "# Iterator\n",
    "- List, tuple, Set, Dictionary 같은 자료형이나, 문자열과 같은 문제 시퀸스는 for문을 통해 하나하나 원소를 꺼내올 수 있는데, 이런 자료형이나, 시퀸스들을 Iterable 객체(Iterable object)라 부릅니다.\n",
    "- iterable object의 내장함수 iter()은 \"iter(iterable_object_name)\" 과 같이 사용하여, iterable object의 iterator를 반환합니다.\n",
    "- iterable object에서 실제로 iteration을 수행하는 것은 iterator이며, iterator은 next라는 매서드 함수를 사용하여, 다음 원소를 꺼내옵니다.\n",
    "- 더이상 반환할 next 원소가 부재할시에는, \"stopiteration 예외상황\"을 반환시켜 정지합니다."
   ]
  },
  {
   "cell_type": "code",
   "execution_count": 30,
   "metadata": {},
   "outputs": [
    {
     "name": "stdout",
     "output_type": "stream",
     "text": [
      "1\n",
      "3\n",
      "5\n",
      "7\n",
      "9\n"
     ]
    }
   ],
   "source": [
    "list_iterobj = [1,3,5,7,9]\n",
    "list_iterator = iter(list_iterobj)\n",
    "print(list_iterator.__next__())#in python2 list_iterator.next()\n",
    "print(list_iterator.__next__())\n",
    "print(list_iterator.__next__())\n",
    "print(next(list_iterator))\n",
    "print(next(list_iterator))\n",
    "#print(list_iterator.__next__())#stopiteration exception err occur"
   ]
  },
  {
   "cell_type": "markdown",
   "metadata": {},
   "source": [
    "- iterable한 클래스를 만들고자 한다면, iterator를 반환하는 __iter__() 매서드를 작성해야만 합니다.\n",
    "- iterator는 1.동일한 클래스 객체가 될 수도 있고, 2.별도로 작성된 iterator 클래스의 객체가 될 수도 있습니다.\n",
    "- iterator가 되는 클래스는 반드시 __next__() 매서드를 가지고 있어야 합니다.\n",
    "- 요약하면, iterable class(object) -> has iterator -> has __next__() method. 가 될것입니다."
   ]
  },
  {
   "cell_type": "code",
   "execution_count": 32,
   "metadata": {},
   "outputs": [
    {
     "name": "stdout",
     "output_type": "stream",
     "text": [
      "[0, 1, 2, 3, 4, 5, 6, 7, 8, 9]\n",
      "0\n",
      "1\n",
      "2\n",
      "3\n",
      "4\n",
      "5\n",
      "6\n",
      "7\n",
      "8\n",
      "9\n",
      "[1, 3, 5, 7, 9]\n",
      "1\n",
      "3\n",
      "5\n",
      "7\n",
      "9\n"
     ]
    }
   ],
   "source": [
    "class iterator_class:\n",
    "    def __init__(self,capacity_,list_):\n",
    "        self.cap = capacity_\n",
    "        self.index = 0\n",
    "        if not list_:\n",
    "            self.data = list(range(self.cap))\n",
    "            print(self.data)\n",
    "        else:\n",
    "            self.data = list_\n",
    "            print(self.data)\n",
    "    def __iter__(self):\n",
    "        return self\n",
    "    def __next__(self):\n",
    "        if self.index >= self.cap:\n",
    "            raise StopIteration\n",
    "        out = self.data[self.index]\n",
    "        self.index += 1\n",
    "        return out\n",
    "test = iterator_class(10,[])\n",
    "for x in test:\n",
    "    print(x)\n",
    "######################################################\n",
    "class iterable_class:\n",
    "    def __init__(self,capacity_,list_):\n",
    "        self.cap = capacity_\n",
    "        self.list = list_\n",
    "    def __iter__(self):\n",
    "        self.index = 0\n",
    "        return iterator_class(self.cap,self.list)\n",
    "test = iterable_class(5,[1,3,5,7,9])\n",
    "for x in test:\n",
    "    print(x)"
   ]
  },
  {
   "cell_type": "markdown",
   "metadata": {},
   "source": [
    "- 위의 예시에서 iterator_class는 __iter__() 매서드를 갖고 있고, 자기자신을 iterator 반환하고 있습니다.\n",
    "- 또, __next__() 매서드를 갖고 있으므로, iterator_class는 이터레이터로서 동작할 수 있습니다.\n",
    "- 따라서, iterator_class는 iterable하며, iterator이기도 합니다.\n",
    "- 아래의 iterable_class는 __iter__() 매서드를 갖고 있으며, iterator_class를 iterator로써 반환하고 있습니다.\n",
    "- iterator_class와는 반대로 __next__()가 없으나, iterable하며, 이는 __iter()__ 에서 __next__() 매서드를 갖고있는, iterator를 반환하고 있기에, iterable한 class가 될 것입니다.\n",
    "- 따라서, iterable_class는 iterator가 아니지만, iterable합니다.\n"
   ]
  },
  {
   "cell_type": "markdown",
   "metadata": {},
   "source": [
    "# generator\n",
    "- generator는 iterator의 특수한 형태중 하나입니다.\n",
    "- generator 함수는 함수안에 yeild가 하나하나 사용되어 데이터를 하나씩 리턴하는 방식으로 동작합니다.\n",
    "- generator를 생성한 뒤 next를 통해 호출 될 때마다, 마지막 yield 이후부터 다음 yield까지의 동작을 수행합니다.\n",
    "- iteratable object와 마찬가지로, for문에서 사용될 수 있습니다."
   ]
  },
  {
   "cell_type": "code",
   "execution_count": 15,
   "metadata": {},
   "outputs": [
    {
     "name": "stdout",
     "output_type": "stream",
     "text": [
      "<class 'generator'>\n",
      "0-1\n",
      "1\n",
      "1-2\n",
      "2\n",
      "2-3\n",
      "3\n",
      "--------------------\n",
      "0-1\n",
      "1\n",
      "1-2\n",
      "2\n",
      "2-3\n",
      "3\n",
      "3-4\n"
     ]
    }
   ],
   "source": [
    "def generator_func():\n",
    "    print('0-1')\n",
    "    yield 1\n",
    "    print('1-2')\n",
    "    yield 2\n",
    "    print('2-3')\n",
    "    yield 3\n",
    "    print('3-4')\n",
    "\n",
    "g1 = generator_func()\n",
    "print(type(g1))\n",
    "print(next(g1))\n",
    "print(next(g1))\n",
    "print(next(g1))\n",
    "print('--------------------')\n",
    "g2 = generator_func()\n",
    "for item in g2:\n",
    "    print(item)"
   ]
  },
  {
   "cell_type": "code",
   "execution_count": 23,
   "metadata": {},
   "outputs": [
    {
     "name": "stdout",
     "output_type": "stream",
     "text": [
      "0\n",
      "1\n",
      "2\n",
      "3\n",
      "4\n",
      "5\n"
     ]
    }
   ],
   "source": [
    "def infgen():\n",
    "    cnt = 0\n",
    "    while True:\n",
    "        yield cnt\n",
    "        cnt = cnt + 1\n",
    "        \n",
    "g = infgen()\n",
    "print(next(g))\n",
    "print(next(g))\n",
    "print(next(g))\n",
    "print(next(g))\n",
    "print(next(g))\n",
    "print(next(g))"
   ]
  },
  {
   "cell_type": "markdown",
   "metadata": {},
   "source": [
    "- generator은 키워드 \"yeild\"를 통해 iterator를 생성하므로, 다음과 같이 무한한 순서가 있는 객체를 만드는 것이 가능합니다.\n",
    "- 이렇게 무한한 숫자를 반환할 수 있는 이유는 generator를 실행할때(next) 마다, yield까지 수행되고 내부의 변수가 유지되는 독특한 방식을 채택하고 있기 때문입니다."
   ]
  },
  {
   "cell_type": "markdown",
   "metadata": {},
   "source": [
    "- 사실, List, set Dictionary의 표현식의 내부도 generator입니다.\n",
    "- 표현식에 대해서는 다음 자료를 확인! <https://wikidocs.net/16064>"
   ]
  },
  {
   "cell_type": "code",
   "execution_count": 28,
   "metadata": {},
   "outputs": [
    {
     "name": "stdout",
     "output_type": "stream",
     "text": [
      "<class 'generator'>\n",
      "<class 'generator'>\n",
      "<class 'generator'>\n"
     ]
    }
   ],
   "source": [
    "print(type(x^3 for x in [1,3,5]))\n",
    "print(type(x^3 for x in (1,3,5)))\n",
    "print(type(x^3 for x in {1,3,5}))"
   ]
  },
  {
   "cell_type": "markdown",
   "metadata": {},
   "source": [
    "# 강의에서 다루진 않았지만 그 외에 공부해볼만한 것들\n",
    "- mutable v.s immutable variable (얇은 복사와 깊은 복사)\n",
    "- exception\n",
    "- 상속(클래스)\n",
    "- instance method, classmethod, static method\n",
    "- 추상클래스\n",
    "- Ducktyping\n",
    "- File i.o\n",
    "- finally & with\n",
    "- Range & enumerate(torch에서 다룰 예정.)"
   ]
  },
  {
   "cell_type": "code",
   "execution_count": null,
   "metadata": {},
   "outputs": [],
   "source": []
  }
 ],
 "metadata": {
  "kernelspec": {
   "display_name": "Python 3",
   "language": "python",
   "name": "python3"
  },
  "language_info": {
   "codemirror_mode": {
    "name": "ipython",
    "version": 3
   },
   "file_extension": ".py",
   "mimetype": "text/x-python",
   "name": "python",
   "nbconvert_exporter": "python",
   "pygments_lexer": "ipython3",
   "version": "3.7.4"
  }
 },
 "nbformat": 4,
 "nbformat_minor": 2
}
